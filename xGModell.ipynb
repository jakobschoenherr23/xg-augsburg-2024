{
 "cells": [
  {
   "cell_type": "code",
   "execution_count": 45,
   "id": "79de1692-b538-4fad-8449-a6bf068e5ce8",
   "metadata": {},
   "outputs": [],
   "source": [
    "import requests\n",
    "from bs4 import BeautifulSoup\n",
    "import json\n",
    "import re\n",
    "import os"
   ]
  },
  {
   "cell_type": "code",
   "execution_count": 44,
   "id": "23d17135-449b-4251-b4b8-4eef0ce5ac58",
   "metadata": {},
   "outputs": [],
   "source": [
    "#Webscraping der Schussdaten von dem Spiel Fc Augsburg - Holstein Kiel \n",
    "url = 'https://understat.com/match/28025'\n",
    "variable_name='shotsData'\n",
    "response= requests.get(url)\n",
    "soup = BeautifulSoup(response.content, \"html.parser\")\n",
    "scripts = soup.find_all('script')\n",
    "for script in scripts:\n",
    "    if variable_name in script.text:\n",
    "        ##Json-Rohdaten finden\n",
    "        start = script.text.find('JSON.parse(\"') + len('JSON.parse(\"')\n",
    "        end = script.text.find('\");', start)\n",
    "        ##Rohdaten so manipulieren, dass nur noch die escape-Daten vorhanden sind\n",
    "        json_raw = script.text[start:end]\n",
    "        x= json_raw.find('(')\n",
    "        y= json_raw.find(')')\n",
    "        json_raw=json_raw[x+2:y-1]\n",
    "        ## von escape Rohdaten in normaler JSON-Form umwandlen\n",
    "        json_clean = json_raw.encode().decode('unicode_escape')\n",
    "        ##in python-Dictonary umwandeln\n",
    "        data = json.loads(json_clean)\n",
    "        ## in Datei abspeichern\n",
    "        with open(\"meinedaten.json\", \"w\") as outfile:\n",
    "            json.dump(data, outfile, indent=4)\n",
    "        "
   ]
  },
  {
   "cell_type": "code",
   "execution_count": 46,
   "id": "d1fc9c62-e8cf-4418-965f-e411a9b815aa",
   "metadata": {},
   "outputs": [
    {
     "name": "stdout",
     "output_type": "stream",
     "text": [
      "C:\\Users\\Schönherr\n"
     ]
    }
   ],
   "source": [
    "print(os.getcwd())"
   ]
  },
  {
   "cell_type": "code",
   "execution_count": null,
   "id": "b2502f23-fc07-413c-ba8f-0bd90ff6714c",
   "metadata": {},
   "outputs": [],
   "source": []
  }
 ],
 "metadata": {
  "kernelspec": {
   "display_name": "Python 3 (ipykernel)",
   "language": "python",
   "name": "python3"
  },
  "language_info": {
   "codemirror_mode": {
    "name": "ipython",
    "version": 3
   },
   "file_extension": ".py",
   "mimetype": "text/x-python",
   "name": "python",
   "nbconvert_exporter": "python",
   "pygments_lexer": "ipython3",
   "version": "3.12.3"
  }
 },
 "nbformat": 4,
 "nbformat_minor": 5
}
